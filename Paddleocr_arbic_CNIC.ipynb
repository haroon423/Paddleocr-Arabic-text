{
 "cells": [
  {
   "cell_type": "code",
   "execution_count": 1,
   "id": "06a6ad46-7399-4cf3-b929-d6d6ee770d44",
   "metadata": {},
   "outputs": [
    {
     "name": "stdout",
     "output_type": "stream",
     "text": [
      "Looking in indexes: https://pypi.tuna.tsinghua.edu.cn/simple\n",
      "Requirement already satisfied: paddlepaddle in c:\\users\\haroon\\anaconda3\\envs\\paddleocr\\lib\\site-packages (2.1.1)\n",
      "Requirement already satisfied: requests>=2.20.0 in c:\\users\\haroon\\anaconda3\\envs\\paddleocr\\lib\\site-packages (from paddlepaddle) (2.31.0)\n",
      "Requirement already satisfied: protobuf>=3.1.0 in c:\\users\\haroon\\anaconda3\\envs\\paddleocr\\lib\\site-packages (from paddlepaddle) (4.25.3)\n",
      "Requirement already satisfied: Pillow in c:\\users\\haroon\\anaconda3\\envs\\paddleocr\\lib\\site-packages (from paddlepaddle) (10.3.0)\n",
      "Requirement already satisfied: six in c:\\users\\haroon\\anaconda3\\envs\\paddleocr\\lib\\site-packages (from paddlepaddle) (1.16.0)\n",
      "Requirement already satisfied: decorator==4.4.2 in c:\\users\\haroon\\anaconda3\\envs\\paddleocr\\lib\\site-packages (from paddlepaddle) (4.4.2)\n",
      "Requirement already satisfied: astor in c:\\users\\haroon\\anaconda3\\envs\\paddleocr\\lib\\site-packages (from paddlepaddle) (0.8.1)\n",
      "Requirement already satisfied: gast==0.3.3 in c:\\users\\haroon\\anaconda3\\envs\\paddleocr\\lib\\site-packages (from paddlepaddle) (0.3.3)\n",
      "Collecting numpy<=1.19.3,>=1.13 (from paddlepaddle)\n",
      "  Using cached https://pypi.tuna.tsinghua.edu.cn/packages/a4/23/13d2991c156cfd22bfd4a9ae6dcb1a9372004a0e16508b680d17f3280eb4/numpy-1.19.3-cp38-cp38-win_amd64.whl (13.3 MB)\n",
      "Requirement already satisfied: charset-normalizer<4,>=2 in c:\\users\\haroon\\anaconda3\\envs\\paddleocr\\lib\\site-packages (from requests>=2.20.0->paddlepaddle) (2.0.4)\n",
      "Requirement already satisfied: idna<4,>=2.5 in c:\\users\\haroon\\anaconda3\\envs\\paddleocr\\lib\\site-packages (from requests>=2.20.0->paddlepaddle) (3.4)\n",
      "Requirement already satisfied: urllib3<3,>=1.21.1 in c:\\users\\haroon\\anaconda3\\envs\\paddleocr\\lib\\site-packages (from requests>=2.20.0->paddlepaddle) (2.1.0)\n",
      "Requirement already satisfied: certifi>=2017.4.17 in c:\\users\\haroon\\anaconda3\\envs\\paddleocr\\lib\\site-packages (from requests>=2.20.0->paddlepaddle) (2024.2.2)\n",
      "Installing collected packages: numpy\n",
      "  Attempting uninstall: numpy\n",
      "    Found existing installation: numpy 1.24.4\n",
      "    Uninstalling numpy-1.24.4:\n",
      "      Successfully uninstalled numpy-1.24.4\n",
      "Successfully installed numpy-1.19.3\n"
     ]
    },
    {
     "name": "stderr",
     "output_type": "stream",
     "text": [
      "  WARNING: Failed to remove contents in a temporary directory 'C:\\Users\\Haroon\\anaconda3\\envs\\paddleocr\\Lib\\site-packages\\~~mpy'.\n",
      "  You can safely remove it manually.\n",
      "ERROR: pip's dependency resolver does not currently take into account all the packages that are installed. This behaviour is the source of the following dependency conflicts.\n",
      "matplotlib 3.7.5 requires numpy<2,>=1.20, but you have numpy 1.19.3 which is incompatible.\n",
      "pandas 2.0.3 requires numpy>=1.20.3; python_version < \"3.10\", but you have numpy 1.19.3 which is incompatible.\n",
      "scikit-image 0.21.0 requires numpy>=1.21.1, but you have numpy 1.19.3 which is incompatible.\n",
      "scipy 1.10.1 requires numpy<1.27.0,>=1.19.5, but you have numpy 1.19.3 which is incompatible.\n"
     ]
    }
   ],
   "source": [
    "!python -m pip install paddlepaddle -i https://pypi.tuna.tsinghua.edu.cn/simple"
   ]
  },
  {
   "cell_type": "code",
   "execution_count": 1,
   "id": "16598a00-bc6f-4496-a661-09116b3864f8",
   "metadata": {},
   "outputs": [
    {
     "name": "stdout",
     "output_type": "stream",
     "text": [
      "Requirement already satisfied: numpy in c:\\users\\haroon\\anaconda3\\envs\\paddleocr\\lib\\site-packages (1.19.3)\n",
      "Collecting numpy\n",
      "  Using cached numpy-1.24.4-cp38-cp38-win_amd64.whl.metadata (5.6 kB)\n",
      "Using cached numpy-1.24.4-cp38-cp38-win_amd64.whl (14.9 MB)\n",
      "Installing collected packages: numpy\n",
      "  Attempting uninstall: numpy\n",
      "    Found existing installation: numpy 1.19.3\n",
      "    Uninstalling numpy-1.19.3:\n",
      "      Successfully uninstalled numpy-1.19.3\n",
      "Successfully installed numpy-1.24.4\n"
     ]
    },
    {
     "name": "stderr",
     "output_type": "stream",
     "text": [
      "  WARNING: Failed to remove contents in a temporary directory 'C:\\Users\\Haroon\\anaconda3\\envs\\paddleocr\\Lib\\site-packages\\~%mpy'.\n",
      "  You can safely remove it manually.\n",
      "ERROR: pip's dependency resolver does not currently take into account all the packages that are installed. This behaviour is the source of the following dependency conflicts.\n",
      "paddlepaddle 2.1.1 requires numpy<=1.19.3,>=1.13; python_version >= \"3.5\" and platform_system == \"Windows\", but you have numpy 1.24.4 which is incompatible.\n"
     ]
    }
   ],
   "source": [
    "!pip install --upgrade numpy"
   ]
  },
  {
   "cell_type": "code",
   "execution_count": 2,
   "id": "3e15a144-7415-4e17-b6e8-88c5af0efaf5",
   "metadata": {},
   "outputs": [
    {
     "name": "stdout",
     "output_type": "stream",
     "text": [
      "Collecting numpy==1.20\n",
      "  Downloading numpy-1.20.0-cp38-cp38-win_amd64.whl.metadata (2.0 kB)\n",
      "Requirement already satisfied: matplotlib==3.7.5 in c:\\users\\haroon\\anaconda3\\envs\\paddleocr\\lib\\site-packages (3.7.5)\n",
      "Requirement already satisfied: pandas==2.0.3 in c:\\users\\haroon\\anaconda3\\envs\\paddleocr\\lib\\site-packages (2.0.3)\n",
      "Requirement already satisfied: scikit-image==0.21.0 in c:\\users\\haroon\\anaconda3\\envs\\paddleocr\\lib\\site-packages (0.21.0)\n",
      "Requirement already satisfied: scipy==1.10.1 in c:\\users\\haroon\\anaconda3\\envs\\paddleocr\\lib\\site-packages (1.10.1)\n",
      "Requirement already satisfied: contourpy>=1.0.1 in c:\\users\\haroon\\anaconda3\\envs\\paddleocr\\lib\\site-packages (from matplotlib==3.7.5) (1.1.1)\n",
      "Requirement already satisfied: cycler>=0.10 in c:\\users\\haroon\\anaconda3\\envs\\paddleocr\\lib\\site-packages (from matplotlib==3.7.5) (0.12.1)\n",
      "Requirement already satisfied: fonttools>=4.22.0 in c:\\users\\haroon\\anaconda3\\envs\\paddleocr\\lib\\site-packages (from matplotlib==3.7.5) (4.50.0)\n",
      "Requirement already satisfied: kiwisolver>=1.0.1 in c:\\users\\haroon\\anaconda3\\envs\\paddleocr\\lib\\site-packages (from matplotlib==3.7.5) (1.4.5)\n",
      "Requirement already satisfied: packaging>=20.0 in c:\\users\\haroon\\anaconda3\\envs\\paddleocr\\lib\\site-packages (from matplotlib==3.7.5) (23.2)\n",
      "Requirement already satisfied: pillow>=6.2.0 in c:\\users\\haroon\\anaconda3\\envs\\paddleocr\\lib\\site-packages (from matplotlib==3.7.5) (10.3.0)\n",
      "Requirement already satisfied: pyparsing>=2.3.1 in c:\\users\\haroon\\anaconda3\\envs\\paddleocr\\lib\\site-packages (from matplotlib==3.7.5) (3.1.2)\n",
      "Requirement already satisfied: python-dateutil>=2.7 in c:\\users\\haroon\\anaconda3\\envs\\paddleocr\\lib\\site-packages (from matplotlib==3.7.5) (2.8.2)\n",
      "Requirement already satisfied: importlib-resources>=3.2.0 in c:\\users\\haroon\\anaconda3\\envs\\paddleocr\\lib\\site-packages (from matplotlib==3.7.5) (6.1.1)\n",
      "Requirement already satisfied: pytz>=2020.1 in c:\\users\\haroon\\anaconda3\\envs\\paddleocr\\lib\\site-packages (from pandas==2.0.3) (2023.3.post1)\n",
      "Requirement already satisfied: tzdata>=2022.1 in c:\\users\\haroon\\anaconda3\\envs\\paddleocr\\lib\\site-packages (from pandas==2.0.3) (2024.1)\n",
      "INFO: pip is looking at multiple versions of pandas to determine which version is compatible with other requirements. This could take a while.\n",
      "Collecting matplotlib==3.7.5\n",
      "  Using cached matplotlib-3.7.5-cp38-cp38-win_amd64.whl.metadata (5.8 kB)\n",
      "\n",
      "The conflict is caused by:\n",
      "    The user requested numpy==1.20\n",
      "    matplotlib 3.7.5 depends on numpy<2 and >=1.20\n",
      "    pandas 2.0.3 depends on numpy>=1.20.3; python_version < \"3.10\"\n",
      "\n",
      "To fix this you could try to:\n",
      "1. loosen the range of package versions you've specified\n",
      "2. remove package versions to allow pip attempt to solve the dependency conflict\n",
      "\n"
     ]
    },
    {
     "name": "stderr",
     "output_type": "stream",
     "text": [
      "ERROR: Cannot install matplotlib==3.7.5, numpy==1.20 and pandas==2.0.3 because these package versions have conflicting dependencies.\n",
      "ERROR: ResolutionImpossible: for help visit https://pip.pypa.io/en/latest/topics/dependency-resolution/#dealing-with-dependency-conflicts\n"
     ]
    }
   ],
   "source": [
    "!pip install numpy==1.20 matplotlib==3.7.5 pandas==2.0.3 scikit-image==0.21.0 scipy==1.10.1"
   ]
  },
  {
   "cell_type": "code",
   "execution_count": 2,
   "id": "215694b8-1f35-4ec3-a05a-414bbe61bc33",
   "metadata": {},
   "outputs": [
    {
     "name": "stdout",
     "output_type": "stream",
     "text": [
      "Requirement already satisfied: paddleocr in c:\\users\\haroon\\anaconda3\\envs\\paddleocr\\lib\\site-packages (2.7.3)\n",
      "Requirement already satisfied: shapely in c:\\users\\haroon\\anaconda3\\envs\\paddleocr\\lib\\site-packages (from paddleocr) (2.0.3)\n",
      "Requirement already satisfied: scikit-image in c:\\users\\haroon\\anaconda3\\envs\\paddleocr\\lib\\site-packages (from paddleocr) (0.21.0)\n",
      "Requirement already satisfied: imgaug in c:\\users\\haroon\\anaconda3\\envs\\paddleocr\\lib\\site-packages (from paddleocr) (0.4.0)\n",
      "Requirement already satisfied: pyclipper in c:\\users\\haroon\\anaconda3\\envs\\paddleocr\\lib\\site-packages (from paddleocr) (1.3.0.post5)\n",
      "Requirement already satisfied: lmdb in c:\\users\\haroon\\anaconda3\\envs\\paddleocr\\lib\\site-packages (from paddleocr) (1.4.1)\n",
      "Requirement already satisfied: tqdm in c:\\users\\haroon\\anaconda3\\envs\\paddleocr\\lib\\site-packages (from paddleocr) (4.66.2)\n",
      "Requirement already satisfied: numpy in c:\\users\\haroon\\anaconda3\\envs\\paddleocr\\lib\\site-packages (from paddleocr) (1.19.3)\n",
      "Requirement already satisfied: visualdl in c:\\users\\haroon\\anaconda3\\envs\\paddleocr\\lib\\site-packages (from paddleocr) (2.5.3)\n",
      "Requirement already satisfied: rapidfuzz in c:\\users\\haroon\\anaconda3\\envs\\paddleocr\\lib\\site-packages (from paddleocr) (3.7.0)\n",
      "Requirement already satisfied: opencv-python<=4.6.0.66 in c:\\users\\haroon\\anaconda3\\envs\\paddleocr\\lib\\site-packages (from paddleocr) (4.6.0.66)\n",
      "Requirement already satisfied: opencv-contrib-python<=4.6.0.66 in c:\\users\\haroon\\anaconda3\\envs\\paddleocr\\lib\\site-packages (from paddleocr) (4.6.0.66)\n",
      "Requirement already satisfied: cython in c:\\users\\haroon\\anaconda3\\envs\\paddleocr\\lib\\site-packages (from paddleocr) (3.0.10)\n",
      "Requirement already satisfied: lxml in c:\\users\\haroon\\anaconda3\\envs\\paddleocr\\lib\\site-packages (from paddleocr) (5.2.1)\n",
      "Requirement already satisfied: premailer in c:\\users\\haroon\\anaconda3\\envs\\paddleocr\\lib\\site-packages (from paddleocr) (3.10.0)\n",
      "Requirement already satisfied: openpyxl in c:\\users\\haroon\\anaconda3\\envs\\paddleocr\\lib\\site-packages (from paddleocr) (3.1.2)\n",
      "Requirement already satisfied: attrdict in c:\\users\\haroon\\anaconda3\\envs\\paddleocr\\lib\\site-packages (from paddleocr) (2.0.1)\n",
      "Requirement already satisfied: Pillow>=10.0.0 in c:\\users\\haroon\\anaconda3\\envs\\paddleocr\\lib\\site-packages (from paddleocr) (10.3.0)\n",
      "Requirement already satisfied: pyyaml in c:\\users\\haroon\\anaconda3\\envs\\paddleocr\\lib\\site-packages (from paddleocr) (6.0.1)\n",
      "Requirement already satisfied: python-docx in c:\\users\\haroon\\anaconda3\\envs\\paddleocr\\lib\\site-packages (from paddleocr) (1.1.0)\n",
      "Requirement already satisfied: beautifulsoup4 in c:\\users\\haroon\\anaconda3\\envs\\paddleocr\\lib\\site-packages (from paddleocr) (4.12.2)\n",
      "Requirement already satisfied: fonttools>=4.24.0 in c:\\users\\haroon\\anaconda3\\envs\\paddleocr\\lib\\site-packages (from paddleocr) (4.50.0)\n",
      "Requirement already satisfied: fire>=0.3.0 in c:\\users\\haroon\\anaconda3\\envs\\paddleocr\\lib\\site-packages (from paddleocr) (0.6.0)\n",
      "Requirement already satisfied: pdf2docx in c:\\users\\haroon\\anaconda3\\envs\\paddleocr\\lib\\site-packages (from paddleocr) (0.5.8)\n",
      "Requirement already satisfied: six in c:\\users\\haroon\\anaconda3\\envs\\paddleocr\\lib\\site-packages (from fire>=0.3.0->paddleocr) (1.16.0)\n",
      "Requirement already satisfied: termcolor in c:\\users\\haroon\\anaconda3\\envs\\paddleocr\\lib\\site-packages (from fire>=0.3.0->paddleocr) (2.4.0)\n",
      "Requirement already satisfied: soupsieve>1.2 in c:\\users\\haroon\\anaconda3\\envs\\paddleocr\\lib\\site-packages (from beautifulsoup4->paddleocr) (2.5)\n",
      "Requirement already satisfied: scipy in c:\\users\\haroon\\anaconda3\\envs\\paddleocr\\lib\\site-packages (from imgaug->paddleocr) (1.10.1)\n",
      "Requirement already satisfied: matplotlib in c:\\users\\haroon\\anaconda3\\envs\\paddleocr\\lib\\site-packages (from imgaug->paddleocr) (3.7.5)\n",
      "Requirement already satisfied: imageio in c:\\users\\haroon\\anaconda3\\envs\\paddleocr\\lib\\site-packages (from imgaug->paddleocr) (2.34.0)\n",
      "Collecting numpy (from paddleocr)\n",
      "  Using cached numpy-1.24.4-cp38-cp38-win_amd64.whl.metadata (5.6 kB)\n",
      "Requirement already satisfied: networkx>=2.8 in c:\\users\\haroon\\anaconda3\\envs\\paddleocr\\lib\\site-packages (from scikit-image->paddleocr) (3.1)\n",
      "Requirement already satisfied: tifffile>=2022.8.12 in c:\\users\\haroon\\anaconda3\\envs\\paddleocr\\lib\\site-packages (from scikit-image->paddleocr) (2023.7.10)\n",
      "Requirement already satisfied: PyWavelets>=1.1.1 in c:\\users\\haroon\\anaconda3\\envs\\paddleocr\\lib\\site-packages (from scikit-image->paddleocr) (1.4.1)\n",
      "Requirement already satisfied: packaging>=21 in c:\\users\\haroon\\anaconda3\\envs\\paddleocr\\lib\\site-packages (from scikit-image->paddleocr) (23.2)\n",
      "Requirement already satisfied: lazy_loader>=0.2 in c:\\users\\haroon\\anaconda3\\envs\\paddleocr\\lib\\site-packages (from scikit-image->paddleocr) (0.3)\n",
      "Requirement already satisfied: et-xmlfile in c:\\users\\haroon\\anaconda3\\envs\\paddleocr\\lib\\site-packages (from openpyxl->paddleocr) (1.1.0)\n",
      "Requirement already satisfied: PyMuPDF>=1.19.0 in c:\\users\\haroon\\anaconda3\\envs\\paddleocr\\lib\\site-packages (from pdf2docx->paddleocr) (1.24.1)\n",
      "Requirement already satisfied: opencv-python-headless>=4.5 in c:\\users\\haroon\\anaconda3\\envs\\paddleocr\\lib\\site-packages (from pdf2docx->paddleocr) (4.9.0.80)\n",
      "Requirement already satisfied: typing-extensions in c:\\users\\haroon\\anaconda3\\envs\\paddleocr\\lib\\site-packages (from python-docx->paddleocr) (4.10.0)\n",
      "Requirement already satisfied: cssselect in c:\\users\\haroon\\anaconda3\\envs\\paddleocr\\lib\\site-packages (from premailer->paddleocr) (1.2.0)\n",
      "Requirement already satisfied: cssutils in c:\\users\\haroon\\anaconda3\\envs\\paddleocr\\lib\\site-packages (from premailer->paddleocr) (2.10.2)\n",
      "Requirement already satisfied: requests in c:\\users\\haroon\\anaconda3\\envs\\paddleocr\\lib\\site-packages (from premailer->paddleocr) (2.31.0)\n",
      "Requirement already satisfied: cachetools in c:\\users\\haroon\\anaconda3\\envs\\paddleocr\\lib\\site-packages (from premailer->paddleocr) (5.3.3)\n",
      "Requirement already satisfied: colorama in c:\\users\\haroon\\anaconda3\\envs\\paddleocr\\lib\\site-packages (from tqdm->paddleocr) (0.4.6)\n",
      "Requirement already satisfied: bce-python-sdk in c:\\users\\haroon\\anaconda3\\envs\\paddleocr\\lib\\site-packages (from visualdl->paddleocr) (0.9.6)\n",
      "Requirement already satisfied: flask>=1.1.1 in c:\\users\\haroon\\anaconda3\\envs\\paddleocr\\lib\\site-packages (from visualdl->paddleocr) (3.0.2)\n",
      "Requirement already satisfied: Flask-Babel>=3.0.0 in c:\\users\\haroon\\anaconda3\\envs\\paddleocr\\lib\\site-packages (from visualdl->paddleocr) (4.0.0)\n",
      "Requirement already satisfied: protobuf>=3.20.0 in c:\\users\\haroon\\anaconda3\\envs\\paddleocr\\lib\\site-packages (from visualdl->paddleocr) (4.25.3)\n",
      "Requirement already satisfied: pandas in c:\\users\\haroon\\anaconda3\\envs\\paddleocr\\lib\\site-packages (from visualdl->paddleocr) (2.0.3)\n",
      "Requirement already satisfied: rarfile in c:\\users\\haroon\\anaconda3\\envs\\paddleocr\\lib\\site-packages (from visualdl->paddleocr) (4.1)\n",
      "Requirement already satisfied: psutil in c:\\users\\haroon\\anaconda3\\envs\\paddleocr\\lib\\site-packages (from visualdl->paddleocr) (5.9.0)\n",
      "Requirement already satisfied: Werkzeug>=3.0.0 in c:\\users\\haroon\\anaconda3\\envs\\paddleocr\\lib\\site-packages (from flask>=1.1.1->visualdl->paddleocr) (3.0.2)\n",
      "Requirement already satisfied: Jinja2>=3.1.2 in c:\\users\\haroon\\anaconda3\\envs\\paddleocr\\lib\\site-packages (from flask>=1.1.1->visualdl->paddleocr) (3.1.3)\n",
      "Requirement already satisfied: itsdangerous>=2.1.2 in c:\\users\\haroon\\anaconda3\\envs\\paddleocr\\lib\\site-packages (from flask>=1.1.1->visualdl->paddleocr) (2.1.2)\n",
      "Requirement already satisfied: click>=8.1.3 in c:\\users\\haroon\\anaconda3\\envs\\paddleocr\\lib\\site-packages (from flask>=1.1.1->visualdl->paddleocr) (8.1.7)\n",
      "Requirement already satisfied: blinker>=1.6.2 in c:\\users\\haroon\\anaconda3\\envs\\paddleocr\\lib\\site-packages (from flask>=1.1.1->visualdl->paddleocr) (1.7.0)\n",
      "Requirement already satisfied: importlib-metadata>=3.6.0 in c:\\users\\haroon\\anaconda3\\envs\\paddleocr\\lib\\site-packages (from flask>=1.1.1->visualdl->paddleocr) (7.0.1)\n",
      "Requirement already satisfied: Babel>=2.12 in c:\\users\\haroon\\anaconda3\\envs\\paddleocr\\lib\\site-packages (from Flask-Babel>=3.0.0->visualdl->paddleocr) (2.14.0)\n",
      "Requirement already satisfied: pytz>=2022.7 in c:\\users\\haroon\\anaconda3\\envs\\paddleocr\\lib\\site-packages (from Flask-Babel>=3.0.0->visualdl->paddleocr) (2023.3.post1)\n",
      "Requirement already satisfied: PyMuPDFb==1.24.1 in c:\\users\\haroon\\anaconda3\\envs\\paddleocr\\lib\\site-packages (from PyMuPDF>=1.19.0->pdf2docx->paddleocr) (1.24.1)\n",
      "Requirement already satisfied: pycryptodome>=3.8.0 in c:\\users\\haroon\\anaconda3\\envs\\paddleocr\\lib\\site-packages (from bce-python-sdk->visualdl->paddleocr) (3.20.0)\n",
      "Requirement already satisfied: future>=0.6.0 in c:\\users\\haroon\\anaconda3\\envs\\paddleocr\\lib\\site-packages (from bce-python-sdk->visualdl->paddleocr) (1.0.0)\n",
      "Requirement already satisfied: contourpy>=1.0.1 in c:\\users\\haroon\\anaconda3\\envs\\paddleocr\\lib\\site-packages (from matplotlib->imgaug->paddleocr) (1.1.1)\n",
      "Requirement already satisfied: cycler>=0.10 in c:\\users\\haroon\\anaconda3\\envs\\paddleocr\\lib\\site-packages (from matplotlib->imgaug->paddleocr) (0.12.1)\n",
      "Requirement already satisfied: kiwisolver>=1.0.1 in c:\\users\\haroon\\anaconda3\\envs\\paddleocr\\lib\\site-packages (from matplotlib->imgaug->paddleocr) (1.4.5)\n",
      "Requirement already satisfied: pyparsing>=2.3.1 in c:\\users\\haroon\\anaconda3\\envs\\paddleocr\\lib\\site-packages (from matplotlib->imgaug->paddleocr) (3.1.2)\n",
      "Requirement already satisfied: python-dateutil>=2.7 in c:\\users\\haroon\\anaconda3\\envs\\paddleocr\\lib\\site-packages (from matplotlib->imgaug->paddleocr) (2.8.2)\n",
      "Requirement already satisfied: importlib-resources>=3.2.0 in c:\\users\\haroon\\anaconda3\\envs\\paddleocr\\lib\\site-packages (from matplotlib->imgaug->paddleocr) (6.1.1)\n",
      "Requirement already satisfied: tzdata>=2022.1 in c:\\users\\haroon\\anaconda3\\envs\\paddleocr\\lib\\site-packages (from pandas->visualdl->paddleocr) (2024.1)\n",
      "Requirement already satisfied: charset-normalizer<4,>=2 in c:\\users\\haroon\\anaconda3\\envs\\paddleocr\\lib\\site-packages (from requests->premailer->paddleocr) (2.0.4)\n",
      "Requirement already satisfied: idna<4,>=2.5 in c:\\users\\haroon\\anaconda3\\envs\\paddleocr\\lib\\site-packages (from requests->premailer->paddleocr) (3.4)\n",
      "Requirement already satisfied: urllib3<3,>=1.21.1 in c:\\users\\haroon\\anaconda3\\envs\\paddleocr\\lib\\site-packages (from requests->premailer->paddleocr) (2.1.0)\n",
      "Requirement already satisfied: certifi>=2017.4.17 in c:\\users\\haroon\\anaconda3\\envs\\paddleocr\\lib\\site-packages (from requests->premailer->paddleocr) (2024.2.2)\n",
      "Requirement already satisfied: zipp>=0.5 in c:\\users\\haroon\\anaconda3\\envs\\paddleocr\\lib\\site-packages (from importlib-metadata>=3.6.0->flask>=1.1.1->visualdl->paddleocr) (3.17.0)\n",
      "Requirement already satisfied: MarkupSafe>=2.0 in c:\\users\\haroon\\anaconda3\\envs\\paddleocr\\lib\\site-packages (from Jinja2>=3.1.2->flask>=1.1.1->visualdl->paddleocr) (2.1.3)\n",
      "Using cached numpy-1.24.4-cp38-cp38-win_amd64.whl (14.9 MB)\n",
      "Installing collected packages: numpy\n",
      "  Attempting uninstall: numpy\n",
      "    Found existing installation: numpy 1.19.3\n",
      "    Uninstalling numpy-1.19.3:\n",
      "      Successfully uninstalled numpy-1.19.3\n",
      "Successfully installed numpy-1.24.4\n"
     ]
    },
    {
     "name": "stderr",
     "output_type": "stream",
     "text": [
      "ERROR: pip's dependency resolver does not currently take into account all the packages that are installed. This behaviour is the source of the following dependency conflicts.\n",
      "paddlepaddle 2.1.1 requires numpy<=1.19.3,>=1.13; python_version >= \"3.5\" and platform_system == \"Windows\", but you have numpy 1.24.4 which is incompatible.\n"
     ]
    }
   ],
   "source": [
    "!pip install paddleocr"
   ]
  },
  {
   "cell_type": "code",
   "execution_count": 3,
   "id": "37eac4c7-e594-4055-adf0-d4549106561d",
   "metadata": {},
   "outputs": [
    {
     "name": "stderr",
     "output_type": "stream",
     "text": [
      "fatal: destination path 'PaddleOCR' already exists and is not an empty directory.\n"
     ]
    }
   ],
   "source": [
    "!git clone https://github.com/PaddlePaddle/PaddleOCR"
   ]
  },
  {
   "cell_type": "code",
   "execution_count": 5,
   "id": "67e0d12a-5090-4a6f-ab15-ff5d329ddb48",
   "metadata": {},
   "outputs": [
    {
     "name": "stdout",
     "output_type": "stream",
     "text": [
      "Requirement already satisfied: protobuf<=3.20.1 in c:\\users\\haroon\\anaconda3\\envs\\paddleocr\\lib\\site-packages (3.20.1)\n"
     ]
    }
   ],
   "source": [
    "!pip install --upgrade \"protobuf<=3.20.1\""
   ]
  },
  {
   "cell_type": "code",
   "execution_count": null,
   "id": "55c98e3f-3262-4daf-aad3-a237e29f1f12",
   "metadata": {},
   "outputs": [],
   "source": [
    "!pip install tensorflow==2.9.1"
   ]
  },
  {
   "cell_type": "code",
   "execution_count": 1,
   "id": "ecdf817e-2d75-4b8b-9b71-1757f596dd04",
   "metadata": {},
   "outputs": [],
   "source": [
    "from paddleocr import PaddleOCR, draw_ocr # main OCR dependencies\n",
    "from matplotlib import pyplot as plt # for plotting maps\n",
    "import cv2 #opencv for writing and reading the images\n",
    "import os # folder directory navigation"
   ]
  },
  {
   "cell_type": "code",
   "execution_count": 2,
   "id": "4524a425-81d3-422f-8f64-1b80cfb4e4e3",
   "metadata": {},
   "outputs": [
    {
     "name": "stdout",
     "output_type": "stream",
     "text": [
      "[2024/04/16 21:28:00] ppocr DEBUG: Namespace(alpha=1.0, alphacolor=(255, 255, 255), benchmark=False, beta=1.0, binarize=False, cls_batch_num=6, cls_image_shape='3, 48, 192', cls_model_dir='C:\\\\Users\\\\Haroon/.paddleocr/whl\\\\cls\\\\ch_ppocr_mobile_v2.0_cls_infer', cls_thresh=0.9, cpu_threads=10, crop_res_save_dir='./output', det=True, det_algorithm='DB', det_box_type='quad', det_db_box_thresh=0.6, det_db_score_mode='fast', det_db_thresh=0.3, det_db_unclip_ratio=1.5, det_east_cover_thresh=0.1, det_east_nms_thresh=0.2, det_east_score_thresh=0.8, det_limit_side_len=960, det_limit_type='max', det_model_dir='C:\\\\Users\\\\Haroon/.paddleocr/whl\\\\det\\\\en\\\\en_PP-OCRv3_det_infer', det_pse_box_thresh=0.85, det_pse_min_area=16, det_pse_scale=1, det_pse_thresh=0, det_sast_nms_thresh=0.2, det_sast_score_thresh=0.5, draw_img_save_dir='./inference_results', drop_score=0.5, e2e_algorithm='PGNet', e2e_char_dict_path='./ppocr/utils/ic15_dict.txt', e2e_limit_side_len=768, e2e_limit_type='max', e2e_model_dir=None, e2e_pgnet_mode='fast', e2e_pgnet_score_thresh=0.5, e2e_pgnet_valid_set='totaltext', enable_mkldnn=False, fourier_degree=5, gpu_id=0, gpu_mem=500, help='==SUPPRESS==', image_dir=None, image_orientation=False, invert=False, ir_optim=True, kie_algorithm='LayoutXLM', label_list=['0', '180'], lang='en', layout=True, layout_dict_path=None, layout_model_dir=None, layout_nms_threshold=0.5, layout_score_threshold=0.5, max_batch_size=10, max_text_length=25, merge_no_span_structure=True, min_subgraph_size=15, mode='structure', ocr=True, ocr_order_method=None, ocr_version='PP-OCRv4', output='./output', page_num=0, precision='fp32', process_id=0, re_model_dir=None, rec=True, rec_algorithm='SVTR_LCNet', rec_batch_num=6, rec_char_dict_path='C:\\\\Users\\\\Haroon\\\\anaconda3\\\\envs\\\\paddleocr\\\\lib\\\\site-packages\\\\paddleocr\\\\ppocr\\\\utils\\\\en_dict.txt', rec_image_inverse=True, rec_image_shape='3, 48, 320', rec_model_dir='C:\\\\Users\\\\Haroon/.paddleocr/whl\\\\rec\\\\en\\\\en_PP-OCRv4_rec_infer', recovery=False, save_crop_res=False, save_log_path='./log_output/', scales=[8, 16, 32], ser_dict_path='../train_data/XFUND/class_list_xfun.txt', ser_model_dir=None, show_log=True, sr_batch_num=1, sr_image_shape='3, 32, 128', sr_model_dir=None, structure_version='PP-StructureV2', table=True, table_algorithm='TableAttn', table_char_dict_path=None, table_max_len=488, table_model_dir=None, total_process_num=1, type='ocr', use_angle_cls=True, use_dilation=False, use_gpu=False, use_mp=False, use_npu=False, use_onnx=False, use_pdf2docx_api=False, use_pdserving=False, use_space_char=True, use_tensorrt=False, use_visual_backbone=True, use_xpu=False, vis_font_path='./doc/fonts/simfang.ttf', warmup=False)\n",
      "[2024/04/16 21:28:03] ppocr DEBUG: Namespace(alpha=1.0, alphacolor=(255, 255, 255), benchmark=False, beta=1.0, binarize=False, cls_batch_num=6, cls_image_shape='3, 48, 192', cls_model_dir='C:\\\\Users\\\\Haroon/.paddleocr/whl\\\\cls\\\\ch_ppocr_mobile_v2.0_cls_infer', cls_thresh=0.9, cpu_threads=10, crop_res_save_dir='./output', det=True, det_algorithm='DB', det_box_type='quad', det_db_box_thresh=0.6, det_db_score_mode='fast', det_db_thresh=0.3, det_db_unclip_ratio=1.5, det_east_cover_thresh=0.1, det_east_nms_thresh=0.2, det_east_score_thresh=0.8, det_limit_side_len=960, det_limit_type='max', det_model_dir='C:\\\\Users\\\\Haroon/.paddleocr/whl\\\\det\\\\ml\\\\Multilingual_PP-OCRv3_det_infer', det_pse_box_thresh=0.85, det_pse_min_area=16, det_pse_scale=1, det_pse_thresh=0, det_sast_nms_thresh=0.2, det_sast_score_thresh=0.5, draw_img_save_dir='./inference_results', drop_score=0.5, e2e_algorithm='PGNet', e2e_char_dict_path='./ppocr/utils/ic15_dict.txt', e2e_limit_side_len=768, e2e_limit_type='max', e2e_model_dir=None, e2e_pgnet_mode='fast', e2e_pgnet_score_thresh=0.5, e2e_pgnet_valid_set='totaltext', enable_mkldnn=False, fourier_degree=5, gpu_id=0, gpu_mem=500, help='==SUPPRESS==', image_dir=None, image_orientation=False, invert=False, ir_optim=True, kie_algorithm='LayoutXLM', label_list=['0', '180'], lang='ar', layout=True, layout_dict_path=None, layout_model_dir=None, layout_nms_threshold=0.5, layout_score_threshold=0.5, max_batch_size=10, max_text_length=25, merge_no_span_structure=True, min_subgraph_size=15, mode='structure', ocr=True, ocr_order_method=None, ocr_version='PP-OCRv4', output='./output', page_num=0, precision='fp32', process_id=0, re_model_dir=None, rec=True, rec_algorithm='SVTR_LCNet', rec_batch_num=6, rec_char_dict_path='C:\\\\Users\\\\Haroon\\\\anaconda3\\\\envs\\\\paddleocr\\\\lib\\\\site-packages\\\\paddleocr\\\\ppocr\\\\utils\\\\dict\\\\arabic_dict.txt', rec_image_inverse=True, rec_image_shape='3, 48, 320', rec_model_dir='C:\\\\Users\\\\Haroon/.paddleocr/whl\\\\rec\\\\arabic\\\\arabic_PP-OCRv4_rec_infer', recovery=False, save_crop_res=False, save_log_path='./log_output/', scales=[8, 16, 32], ser_dict_path='../train_data/XFUND/class_list_xfun.txt', ser_model_dir=None, show_log=True, sr_batch_num=1, sr_image_shape='3, 32, 128', sr_model_dir=None, structure_version='PP-StructureV2', table=True, table_algorithm='TableAttn', table_char_dict_path=None, table_max_len=488, table_model_dir=None, total_process_num=1, type='ocr', use_angle_cls=True, use_dilation=False, use_gpu=False, use_mp=False, use_npu=False, use_onnx=False, use_pdf2docx_api=False, use_pdserving=False, use_space_char=True, use_tensorrt=False, use_visual_backbone=True, use_xpu=False, vis_font_path='./doc/fonts/simfang.ttf', warmup=False)\n"
     ]
    }
   ],
   "source": [
    "ocr_model = PaddleOCR(lang='en',use_angle_cls=True,use_gpu=True)\n",
    "ocr_model = PaddleOCR(lang='ar',use_angle_cls=True,use_gpu=True)"
   ]
  },
  {
   "cell_type": "code",
   "execution_count": 3,
   "id": "3c212b1d-0799-4a61-9bf3-355fb0d4af37",
   "metadata": {},
   "outputs": [],
   "source": [
    "img_path = os.path.join('.', 'WhatsApp Image 2024-04-16 at 12.44.51_d2321040.jpg')"
   ]
  },
  {
   "cell_type": "code",
   "execution_count": 4,
   "id": "b1291f49-8dca-4794-8e6c-f07b70237dab",
   "metadata": {},
   "outputs": [
    {
     "name": "stdout",
     "output_type": "stream",
     "text": [
      "[2024/04/16 21:29:11] ppocr DEBUG: dt_boxes num : 58, elapsed : 1.2260119915008545\n",
      "[2024/04/16 21:29:11] ppocr DEBUG: cls num  : 58, elapsed : 0.39160966873168945\n",
      "[2024/04/16 21:29:14] ppocr DEBUG: rec_res num  : 58, elapsed : 2.8238604068756104\n"
     ]
    }
   ],
   "source": [
    "result = ocr_model.ocr(img_path)"
   ]
  },
  {
   "cell_type": "code",
   "execution_count": 5,
   "id": "84976bb0-8014-46a5-b796-f3f7b2f12ff8",
   "metadata": {},
   "outputs": [
    {
     "data": {
      "text/plain": [
       "[[[[[647.0, 80.0], [843.0, 80.0], [843.0, 166.0], [647.0, 166.0]],\n",
       "   ('مقم', 0.8317546248435974)],\n",
       "  [[[840.0, 82.0], [985.0, 82.0], [985.0, 171.0], [840.0, 171.0]],\n",
       "   ('لؤه', 0.7472071647644043)],\n",
       "  [[[1100.0, 87.0], [1488.0, 87.0], [1488.0, 154.0], [1100.0, 154.0]],\n",
       "   ('ةيدووعشلا ة يك م', 0.6509077548980713)],\n",
       "  [[[113.0, 108.0], [258.0, 108.0], [258.0, 138.0], [113.0, 138.0]],\n",
       "   ('KINGDOM', 0.97880619764328)],\n",
       "  [[[317.0, 108.0], [413.0, 108.0], [413.0, 143.0], [317.0, 143.0]],\n",
       "   ('SAUDI', 0.7952171564102173)],\n",
       "  [[[422.0, 112.0], [535.0, 112.0], [535.0, 141.0], [422.0, 141.0]],\n",
       "   ('ARABIA', 0.9222728610038757)],\n",
       "  [[[115.0, 161.0], [329.0, 164.0], [328.0, 199.0], [115.0, 195.0]],\n",
       "   ('MINISTRYOF', 0.9212072491645813)],\n",
       "  [[[335.0, 169.0], [493.0, 169.0], [493.0, 197.0], [335.0, 197.0]],\n",
       "   ('INTERIOR', 0.9723308682441711)],\n",
       "  [[[1170.0, 164.0], [1415.0, 164.0], [1415.0, 222.0], [1170.0, 222.0]],\n",
       "   ('ةلهلا ةرلو', 0.6407787203788757)],\n",
       "  [[[653.0, 186.0], [815.0, 186.0], [815.0, 220.0], [653.0, 220.0]],\n",
       "   ('RESIDENT', 0.9818671941757202)],\n",
       "  [[[825.0, 183.0], [978.0, 179.0], [979.0, 218.0], [826.0, 222.0]],\n",
       "   ('٧DENTIT١', 0.9150310754776001)],\n",
       "  [[[1414.0, 247.0], [1511.0, 242.0], [1514.0, 300.0], [1417.0, 305.0]],\n",
       "   ('نامثع', 0.9963374137878418)],\n",
       "  [[[1036.0, 265.0], [1100.0, 254.0], [1107.0, 299.0], [1044.0, 309.0]],\n",
       "   ('يلع', 0.6148291230201721)],\n",
       "  [[[1122.0, 258.0], [1208.0, 258.0], [1208.0, 301.0], [1122.0, 301.0]],\n",
       "   ('راباب', 0.9963003396987915)],\n",
       "  [[[1223.0, 258.0], [1303.0, 258.0], [1303.0, 296.0], [1223.0, 296.0]],\n",
       "   ('كلام', 0.9922299385070801)],\n",
       "  [[[1318.0, 258.0], [1403.0, 258.0], [1403.0, 302.0], [1318.0, 302.0]],\n",
       "   ('راباب', 0.9937174916267395)],\n",
       "  [[[536.0, 304.0], [749.0, 307.0], [748.0, 348.0], [535.0, 345.0]],\n",
       "   ('USMAN', 0.9631322622299194)],\n",
       "  [[[773.0, 309.0], [970.0, 309.0], [970.0, 348.0], [773.0, 348.0]],\n",
       "   ('BABAR', 0.9569922685623169)],\n",
       "  [[[990.0, 309.0], [1182.0, 309.0], [1182.0, 350.0], [990.0, 350.0]],\n",
       "   ('MALIK', 0.8875623941421509)],\n",
       "  [[[1200.0, 309.0], [1400.0, 309.0], [1400.0, 348.0], [1200.0, 348.0]],\n",
       "   ('BABAR', 0.9140987396240234)],\n",
       "  [[[1415.0, 307.0], [1512.0, 307.0], [1512.0, 350.0], [1415.0, 350.0]],\n",
       "   ('LI', 0.8243808746337891)],\n",
       "  [[[865.0, 386.0], [957.0, 386.0], [957.0, 422.0], [865.0, 422.0]],\n",
       "   ('ةخسن', 0.9030413627624512)],\n",
       "  [[[1058.0, 386.0], [1357.0, 386.0], [1357.0, 420.0], [1058.0, 420.0]],\n",
       "   ('٥١٤٢٥٩٩٧٣٢', 0.9723135232925415)],\n",
       "  [[[1426.0, 388.0], [1512.0, 384.0], [1514.0, 428.0], [1428.0, 433.0]],\n",
       "   ('مقرلا', 0.9716822504997253)],\n",
       "  [[[854.0, 452.0], [923.0, 459.0], [919.0, 497.0], [850.0, 490.0]],\n",
       "   ('تام', 0.9940764904022217)],\n",
       "  [[[910.0, 458.0], [993.0, 458.0], [993.0, 496.0], [910.0, 496.0]],\n",
       "   ('ولعملا', 0.9337606430053711)],\n",
       "  [[[1006.0, 456.0], [1074.0, 451.0], [1078.0, 497.0], [1009.0, 502.0]],\n",
       "   ('نمX ', 0.7217684984207153)],\n",
       "  [[[1089.0, 457.0], [1158.0, 453.0], [1161.0, 492.0], [1092.0, 497.0]],\n",
       "   ('ملعلا', 0.9976642727851868)],\n",
       "  [[[1172.0, 450.0], [1260.0, 450.0], [1260.0, 501.0], [1172.0, 501.0]],\n",
       "   ('ةكرش', 0.9438060522079468)],\n",
       "  [[[1311.0, 455.0], [1434.0, 451.0], [1435.0, 494.0], [1313.0, 498.0]],\n",
       "   ('رادصإلا', 0.9498258233070374)],\n",
       "  [[[1437.0, 455.0], [1513.0, 455.0], [1513.0, 491.0], [1437.0, 491.0]],\n",
       "   ('ناكم', 0.9915897250175476)],\n",
       "  [[[690.0, 524.0], [893.0, 524.0], [893.0, 565.0], [690.0, 565.0]],\n",
       "   ('د٥٧٥/١/', 0.8390231728553772)],\n",
       "  [[[932.0, 522.0], [1018.0, 522.0], [1018.0, 560.0], [932.0, 560.0]],\n",
       "   ('داليملا', 0.9873465895652771)],\n",
       "  [[[1142.0, 525.0], [1367.0, 525.0], [1367.0, 565.0], [1142.0, 565.0]],\n",
       "   ('٤١/٤/٨', 0.6147173047065735)],\n",
       "  [[[1387.0, 523.0], [1513.0, 515.0], [1516.0, 562.0], [1391.0, 571.0]],\n",
       "   ('رادصإلا', 0.9218840003013611)],\n",
       "  [[[1155.0, 588.0], [1212.0, 588.0], [1212.0, 642.0], [1155.0, 642.0]],\n",
       "   ('ي', 0.846473753452301)],\n",
       "  [[[1223.0, 588.0], [1310.0, 588.0], [1310.0, 637.0], [1223.0, 637.0]],\n",
       "   ('بساح', 0.9995530843734741)],\n",
       "  [[[1319.0, 587.0], [1383.0, 582.0], [1388.0, 639.0], [1324.0, 645.0]],\n",
       "   ('ينف', 0.9481170773506165)],\n",
       "  [[[1435.0, 591.0], [1516.0, 595.0], [1513.0, 639.0], [1433.0, 635.0]],\n",
       "   ('ةنهملا', 0.9989323019981384)],\n",
       "  [[[719.0, 668.0], [824.0, 659.0], [828.0, 700.0], [722.0, 709.0]],\n",
       "   ('ملاس ا', 0.5224248766899109)],\n",
       "  [[[850.0, 665.0], [957.0, 665.0], [957.0, 706.0], [850.0, 706.0]],\n",
       "   ('ةنايدلا', 0.9835659861564636)],\n",
       "  [[[1228.0, 664.0], [1352.0, 660.0], [1354.0, 707.0], [1229.0, 712.0]],\n",
       "   ('ناتسكاب', 0.9846561551094055)],\n",
       "  [[[1390.0, 663.0], [1515.0, 663.0], [1515.0, 708.0], [1390.0, 708.0]],\n",
       "   ('ةيسنجلا', 0.9822739362716675)],\n",
       "  [[[510.0, 755.0], [592.0, 744.0], [598.0, 788.0], [516.0, 800.0]],\n",
       "   ('صخش', 0.9991971850395203)],\n",
       "  [[[603.0, 746.0], [690.0, 746.0], [690.0, 796.0], [603.0, 796.0]],\n",
       "   ('ةكرش', 0.9390177130699158)],\n",
       "  [[[700.0, 755.0], [830.0, 755.0], [830.0, 793.0], [700.0, 793.0]],\n",
       "   ('هدودحملا', 0.9938223958015442)],\n",
       "  [[[837.0, 747.0], [963.0, 747.0], [963.0, 795.0], [837.0, 795.0]],\n",
       "   ('نول واقم', 0.9042577147483826)],\n",
       "  [[[972.0, 752.0], [1095.0, 752.0], [1095.0, 793.0], [972.0, 793.0]],\n",
       "   ('نوسدنهم', 0.9649357795715332)],\n",
       "  [[[1108.0, 747.0], [1207.0, 747.0], [1207.0, 796.0], [1108.0, 796.0]],\n",
       "   ('فيسلا', 0.9703699946403503)],\n",
       "  [[[1215.0, 747.0], [1295.0, 747.0], [1295.0, 793.0], [1215.0, 793.0]],\n",
       "   ('هكرش', 0.92951899766922)],\n",
       "  [[[1312.0, 749.0], [1405.0, 749.0], [1405.0, 790.0], [1312.0, 790.0]],\n",
       "   ('لمعلا', 0.9996923208236694)],\n",
       "  [[[1410.0, 752.0], [1515.0, 752.0], [1515.0, 788.0], [1410.0, 788.0]],\n",
       "   ('بحاص', 0.9536452293395996)],\n",
       "  [[[475.0, 764.0], [498.0, 764.0], [498.0, 792.0], [475.0, 792.0]],\n",
       "   (' و', 0.5404109358787537)],\n",
       "  [[[103.0, 869.0], [203.0, 869.0], [203.0, 925.0], [103.0, 925.0]],\n",
       "   ('اا', 0.725928783416748)],\n",
       "  [[[228.0, 940.0], [373.0, 936.0], [374.0, 964.0], [229.0, 967.0]],\n",
       "   ('2379952415', 0.8836840391159058)]]]"
      ]
     },
     "execution_count": 5,
     "metadata": {},
     "output_type": "execute_result"
    }
   ],
   "source": [
    "result"
   ]
  },
  {
   "cell_type": "code",
   "execution_count": 6,
   "id": "46b064f9-99ac-4338-becd-ddf818d95293",
   "metadata": {},
   "outputs": [
    {
     "name": "stdout",
     "output_type": "stream",
     "text": [
      "مقم\n",
      "لؤه\n",
      "ةيدووعشلا ة يك م\n",
      "KINGDOM\n",
      "SAUDI\n",
      "ARABIA\n",
      "MINISTRYOF\n",
      "INTERIOR\n",
      "ةلهلا ةرلو\n",
      "RESIDENT\n",
      "٧DENTIT١\n",
      "نامثع\n",
      "يلع\n",
      "راباب\n",
      "كلام\n",
      "راباب\n",
      "USMAN\n",
      "BABAR\n",
      "MALIK\n",
      "BABAR\n",
      "LI\n",
      "ةخسن\n",
      "٥١٤٢٥٩٩٧٣٢\n",
      "مقرلا\n",
      "تام\n",
      "ولعملا\n",
      "نمX \n",
      "ملعلا\n",
      "ةكرش\n",
      "رادصإلا\n",
      "ناكم\n",
      "د٥٧٥/١/\n",
      "داليملا\n",
      "٤١/٤/٨\n",
      "رادصإلا\n",
      "ي\n",
      "بساح\n",
      "ينف\n",
      "ةنهملا\n",
      "ملاس ا\n",
      "ةنايدلا\n",
      "ناتسكاب\n",
      "ةيسنجلا\n",
      "صخش\n",
      "ةكرش\n",
      "هدودحملا\n",
      "نول واقم\n",
      "نوسدنهم\n",
      "فيسلا\n",
      "هكرش\n",
      "لمعلا\n",
      "بحاص\n",
      " و\n",
      "اا\n",
      "2379952415\n"
     ]
    }
   ],
   "source": [
    "inner_result = result[0]\n",
    "inner_result\n",
    "for res in inner_result:\n",
    "    print(res[1][0])"
   ]
  },
  {
   "cell_type": "code",
   "execution_count": 7,
   "id": "743c8b32-42c4-4e27-bb37-6baa94d500ed",
   "metadata": {},
   "outputs": [],
   "source": [
    "boxes = [res[0] for res in result]  \n",
    "texts = [res[1][0] for res in result]\n",
    "scores = [res[1][1] for res in result]"
   ]
  },
  {
   "cell_type": "code",
   "execution_count": 8,
   "id": "fae516f5-bcf2-49d9-b918-c93cd4113b9a",
   "metadata": {},
   "outputs": [],
   "source": [
    "font_path = os.path.join('PaddleOCR', 'doc', 'fonts', 'latin.ttf')"
   ]
  },
  {
   "cell_type": "code",
   "execution_count": 9,
   "id": "c920c762-f2ba-428e-b116-52a520cde895",
   "metadata": {},
   "outputs": [],
   "source": [
    "# Import our image - german_states_map.jpg\n",
    "# imports image\n",
    "img = cv2.imread(img_path) \n",
    "\n",
    "# reorders the color channels\n",
    "img = cv2.cvtColor(img, cv2.COLOR_BGR2RGB)"
   ]
  },
  {
   "cell_type": "code",
   "execution_count": 10,
   "id": "d1399bc8-5799-41db-aba6-d394660ae889",
   "metadata": {},
   "outputs": [
    {
     "ename": "TypeError",
     "evalue": "'<' not supported between instances of 'tuple' and 'float'",
     "output_type": "error",
     "traceback": [
      "\u001b[1;31m---------------------------------------------------------------------------\u001b[0m",
      "\u001b[1;31mTypeError\u001b[0m                                 Traceback (most recent call last)",
      "Cell \u001b[1;32mIn[10], line 6\u001b[0m\n\u001b[0;32m      3\u001b[0m plt\u001b[38;5;241m.\u001b[39mfigure(figsize\u001b[38;5;241m=\u001b[39m(\u001b[38;5;241m100\u001b[39m,\u001b[38;5;241m15\u001b[39m))\n\u001b[0;32m      5\u001b[0m \u001b[38;5;66;03m# draw annotations on image\u001b[39;00m\n\u001b[1;32m----> 6\u001b[0m annotated \u001b[38;5;241m=\u001b[39m \u001b[43mdraw_ocr\u001b[49m\u001b[43m(\u001b[49m\u001b[43mimg\u001b[49m\u001b[43m,\u001b[49m\u001b[43m \u001b[49m\u001b[43mboxes\u001b[49m\u001b[43m,\u001b[49m\u001b[43m \u001b[49m\u001b[43mtexts\u001b[49m\u001b[43m,\u001b[49m\u001b[43m \u001b[49m\u001b[43mscores\u001b[49m\u001b[43m,\u001b[49m\u001b[43m \u001b[49m\u001b[43mfont_path\u001b[49m\u001b[38;5;241;43m=\u001b[39;49m\u001b[43mfont_path\u001b[49m\u001b[43m)\u001b[49m \n\u001b[0;32m      8\u001b[0m \u001b[38;5;66;03m# show the image using matplotlib\u001b[39;00m\n\u001b[0;32m      9\u001b[0m plt\u001b[38;5;241m.\u001b[39mimshow(annotated)\n",
      "File \u001b[1;32m~\\anaconda3\\envs\\paddleocr\\lib\\site-packages\\paddleocr\\tools\\infer\\utility.py:387\u001b[0m, in \u001b[0;36mdraw_ocr\u001b[1;34m(image, boxes, txts, scores, drop_score, font_path)\u001b[0m\n\u001b[0;32m    385\u001b[0m box_num \u001b[38;5;241m=\u001b[39m \u001b[38;5;28mlen\u001b[39m(boxes)\n\u001b[0;32m    386\u001b[0m \u001b[38;5;28;01mfor\u001b[39;00m i \u001b[38;5;129;01min\u001b[39;00m \u001b[38;5;28mrange\u001b[39m(box_num):\n\u001b[1;32m--> 387\u001b[0m     \u001b[38;5;28;01mif\u001b[39;00m scores \u001b[38;5;129;01mis\u001b[39;00m \u001b[38;5;129;01mnot\u001b[39;00m \u001b[38;5;28;01mNone\u001b[39;00m \u001b[38;5;129;01mand\u001b[39;00m (\u001b[43mscores\u001b[49m\u001b[43m[\u001b[49m\u001b[43mi\u001b[49m\u001b[43m]\u001b[49m\u001b[43m \u001b[49m\u001b[38;5;241;43m<\u001b[39;49m\u001b[43m \u001b[49m\u001b[43mdrop_score\u001b[49m \u001b[38;5;129;01mor\u001b[39;00m\n\u001b[0;32m    388\u001b[0m                                math\u001b[38;5;241m.\u001b[39misnan(scores[i])):\n\u001b[0;32m    389\u001b[0m         \u001b[38;5;28;01mcontinue\u001b[39;00m\n\u001b[0;32m    390\u001b[0m     box \u001b[38;5;241m=\u001b[39m np\u001b[38;5;241m.\u001b[39mreshape(np\u001b[38;5;241m.\u001b[39marray(boxes[i]), [\u001b[38;5;241m-\u001b[39m\u001b[38;5;241m1\u001b[39m, \u001b[38;5;241m1\u001b[39m, \u001b[38;5;241m2\u001b[39m])\u001b[38;5;241m.\u001b[39mastype(np\u001b[38;5;241m.\u001b[39mint64)\n",
      "\u001b[1;31mTypeError\u001b[0m: '<' not supported between instances of 'tuple' and 'float'"
     ]
    },
    {
     "data": {
      "text/plain": [
       "<Figure size 10000x1500 with 0 Axes>"
      ]
     },
     "metadata": {},
     "output_type": "display_data"
    }
   ],
   "source": [
    "# Visualize our image and detections\n",
    "# resizing display area\n",
    "plt.figure(figsize=(100,15))\n",
    "\n",
    "# draw annotations on image\n",
    "annotated = draw_ocr(img, boxes, texts, scores, font_path=font_path) \n",
    "\n",
    "# show the image using matplotlib\n",
    "plt.imshow(annotated)"
   ]
  },
  {
   "cell_type": "code",
   "execution_count": null,
   "id": "4f7636e8-1b43-4b0e-bac2-9426071e7d53",
   "metadata": {},
   "outputs": [],
   "source": []
  },
  {
   "cell_type": "code",
   "execution_count": null,
   "id": "a1d8f12b-f298-4f90-a4b6-88543c30cea1",
   "metadata": {},
   "outputs": [],
   "source": []
  },
  {
   "cell_type": "code",
   "execution_count": null,
   "id": "71a15590-73d0-4c38-b486-3982bed8c930",
   "metadata": {},
   "outputs": [],
   "source": []
  }
 ],
 "metadata": {
  "kernelspec": {
   "display_name": "Python 3 (ipykernel)",
   "language": "python",
   "name": "python3"
  },
  "language_info": {
   "codemirror_mode": {
    "name": "ipython",
    "version": 3
   },
   "file_extension": ".py",
   "mimetype": "text/x-python",
   "name": "python",
   "nbconvert_exporter": "python",
   "pygments_lexer": "ipython3",
   "version": "3.8.19"
  }
 },
 "nbformat": 4,
 "nbformat_minor": 5
}
